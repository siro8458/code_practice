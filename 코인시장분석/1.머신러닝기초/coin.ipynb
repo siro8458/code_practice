{
 "cells": [
  {
   "cell_type": "markdown",
   "id": "6bec72af-2557-4c15-93d9-1a8f4e38fc44",
   "metadata": {
    "tags": []
   },
   "source": [
    "### 코인개코를 통하여, 시가총액 순으로 티커를 받아옵니다\n",
    "### 이후 크립토컴페어를 통하여 2015~2023.10 까지의 일별, 종가, 거래량을 받아옵니다\n",
    "### 허나, 티커 형식의 약간의 차이로 178개의 코인을 받아옴"
   ]
  },
  {
   "cell_type": "code",
   "execution_count": 1,
   "id": "7e7df028-6de8-47aa-af2a-a471eebbe193",
   "metadata": {
    "tags": []
   },
   "outputs": [],
   "source": [
    "#코인개코 이용 시가총액 순위 300개 불러오기\n",
    "# 단 호출 시간 등이 제한이 있어서 텀 두고 하거나, 이후 작업에는 데이터프레임을 미리 만들어 놓고 할 것\n",
    "import requests\n",
    "import pandas as pd\n",
    "\n",
    "# API 엔드포인트 URL\n",
    "url = \"https://api.coingecko.com/api/v3/coins/markets\"\n",
    "symbol = pd.DataFrame()\n",
    "for i in range(0, 3):\n",
    "    params = {\n",
    "        \"vs_currency\": \"usd\",\n",
    "        \"order\": \"market_cap_desc\",\n",
    "        \"per_page\": 100,\n",
    "        \"page\": i\n",
    "    }\n",
    "\n",
    "    response = requests.get(url, params=params)\n",
    "    \n",
    "    if response.status_code == 200:\n",
    "        data = response.json()\n",
    "        selected_items = []\n",
    "        for item in data:\n",
    "            symbol1 = item[\"symbol\"]\n",
    "            name1 = item[\"name\"]\n",
    "            selected_items.append({'symbol': symbol1, 'name': name1})\n",
    "        df1 = pd.DataFrame(selected_items)\n",
    "        symbol = pd.concat([symbol, df1], ignore_index=True)\n",
    "    else:\n",
    "        print(f\"에러 : {response.status_code}\")\n",
    "        \n",
    "symbol.to_csv('symbol.csv')"
   ]
  },
  {
   "cell_type": "code",
   "execution_count": 25,
   "id": "ad91e0c6-31c5-414e-969d-1e4f05b8c1df",
   "metadata": {
    "tags": []
   },
   "outputs": [
    {
     "data": {
      "text/plain": [
       "<Response [429]>"
      ]
     },
     "execution_count": 25,
     "metadata": {},
     "output_type": "execute_result"
    }
   ],
   "source": [
    "       \n",
    "#cryptocompare를 통해서 정확하게 usd(달러로) 받아오기 시가총액 상위 300개\n",
    "import time\n",
    "import requests\n",
    "import pandas as pd\n",
    "symbol = pd.read_csv('symbol.csv', encoding='CP949')\n",
    "close_df = pd.DataFrame(columns=['Timestamp', 'Close'])\n",
    "volume_df = pd.DataFrame(columns=['Timestamp', 'Volume'])\n",
    "\n",
    "#j=k+1\n",
    "for k in range(0,len(symbol)):    \n",
    "    API_KEY = '키는지울게요' #api 키임\n",
    "    coin_symbol = symbol.loc[k, 'symbol'] #이전 코인개코로 받은 symbol들, coincompare 에서 없을 수도 있음\n",
    "    start_date = pd.to_datetime('2015-01-01')\n",
    "    end_date = pd.to_datetime('2023-10-31')\n",
    "\n",
    "    base_url = 'https://min-api.cryptocompare.com/data/v2/histoday'\n",
    "    params = {\n",
    "        'fsym': coin_symbol,\n",
    "        'tsym': 'USD',\n",
    "        'api_key': API_KEY,\n",
    "        'limit': 2000  # 한 번에 가져올 수 있는 최대 데이터 제한 값\n",
    "    }\n",
    "\n",
    "    date_range = pd.date_range(start=start_date, end=end_date, freq='1D')\n",
    "    \n",
    "\n",
    "    for i in range(0, len(date_range), params['limit']): #시작일부터 끝일까지인데 한번에 받는게 2000뿐이라서...\n",
    "        if i + params['limit'] > len(date_range):\n",
    "            params['limit'] = len(date_range) - i\n",
    "\n",
    "        params['toTs'] = int(date_range[i + params['limit'] - 1].timestamp())\n",
    "\n",
    "        response = requests.get(base_url, params=params)\n",
    "        data = response.json()\n",
    "        if 'Response' in data and data['Response'] == 'Success': #성공시\n",
    "            if 'Data' in data:\n",
    "                day_data = data['Data']['Data']\n",
    "                df = pd.DataFrame(day_data, columns=['time', 'close', 'volumeto', 'marketcap'])\n",
    "                df['Timestamp'] = pd.to_datetime(df['time'], unit='s')\n",
    "                df = df[['Timestamp', 'close', 'volumeto']]\n",
    "                df.columns = ['Timestamp', 'Close', 'Volume']\n",
    "                df['Symbol'] = coin_symbol\n",
    "\n",
    "                close_df = pd.concat([close_df, df[['Timestamp', 'Close', 'Symbol']]], ignore_index=True)\n",
    "                volume_df = pd.concat([volume_df, df[['Timestamp', 'Volume', 'Symbol']]], ignore_index=True)\n",
    "\n",
    "        # 요청 사이에 1초의 딜레이 추가\n",
    "        time.sleep(1)\n",
    "\n",
    "print(\"Close DataFrame:\")\n",
    "print(close_df)\n",
    "\n",
    "print(\"\\nVolume DataFrame:\")\n",
    "print(volume_df)\n",
    "\n",
    "#import winsound\n",
    "#symbol로 피벗해서 데이터 정리\n",
    "close_df = close_df.pivot_table(index='Timestamp', columns='Symbol', values='Close').reset_index()\n",
    "volume_df = volume_df.pivot_table(index='Timestamp', columns='Symbol', values='Volume').reset_index()\n",
    "\n",
    "close_df.to_csv('close_df_cc.csv', na_rep='', index=False)\n",
    "volume_df.to_csv('volume_df_cc.csv', na_rep='', index=False)\n",
    "\n",
    "#winsound.Beep(500, 2000)"
   ]
  },
  {
   "cell_type": "markdown",
   "id": "cb7ac37a-e01e-46ee-b872-d1a6ee083964",
   "metadata": {
    "tags": []
   },
   "source": [
    "### 야후파이낸스를 통하여, S&P500의 수익률을 구하고, 이후 모든 코인들의 거래량, 종가의 수익률(변화율) 측정\n",
    "### 거래량은 분석에는 사용하지 않았으나, 이후 추가할 수 도 있음"
   ]
  },
  {
   "cell_type": "code",
   "execution_count": 4,
   "id": "22654576-e392-4694-9939-4d22ea12beb1",
   "metadata": {
    "tags": []
   },
   "outputs": [
    {
     "name": "stderr",
     "output_type": "stream",
     "text": [
      "C:\\Users\\이세준\\AppData\\Local\\Programs\\Python\\Python311\\Lib\\site-packages\\pandas\\core\\internals\\blocks.py:351: RuntimeWarning: divide by zero encountered in log\n",
      "  result = func(self.values, **kwargs)\n"
     ]
    },
    {
     "name": "stdout",
     "output_type": "stream",
     "text": [
      "[*********************100%%**********************]  1 of 1 completed\n"
     ]
    }
   ],
   "source": [
    "import warnings\n",
    "import pandas as pd\n",
    "import numpy as np\n",
    "close_df = pd.read_csv('close_df_cc.csv', index_col=0)\n",
    "volume_df = pd.read_csv('volume_df_cc.csv', index_col=0)\n",
    "# PerformanceWarning 경고를 끄기\n",
    "warnings.simplefilter(action='ignore', category=pd.errors.PerformanceWarning)\n",
    "\n",
    "close_df[volume_df == 0] = np.nan #거래량이 없는 경우 가격도 없음, 다운받은 종가 데이터는 거래가 없어도, 정지여도 0으로 종가가 찍힘\n",
    "last_close = close_df.shift(1)\n",
    "diff_close = np.log(close_df/last_close)\n",
    "last_volume = volume_df.shift(1)\n",
    "diff_volume = np.log(volume_df/last_volume)\n",
    "diff_close = diff_close[1:]\n",
    "diff_volume = diff_volume[1:]\n",
    "diff_close.index = pd.to_datetime(diff_close.index).date\n",
    "diff_volume.index = pd.to_datetime(diff_volume.index).date\n",
    "\n",
    "num_coin = len(diff_close.columns)\n",
    "\n",
    "import yfinance as yf\n",
    "start_date = '2014-12-31'\n",
    "end_date = '2023-10-31'\n",
    "sp500 = yf.download('SPY', start=start_date, end=end_date)\n",
    "sp500 = pd.DataFrame(sp500['Adj Close'])\n",
    "\n",
    "sp500.columns = ['SP500']\n",
    "last_sp500 = sp500.shift(1)\n",
    "diff_sp500 = np.log(sp500/last_sp500)\n",
    "diff_sp500.index = diff_sp500.index.date\n",
    "diff_sp500 = diff_sp500[1:]\n",
    "\n",
    "df = pd.merge(diff_close, diff_sp500, left_index=True, right_index=True, how = 'outer')\n",
    "df['SP500'] = df['SP500'].fillna(0) #SP500과 같은 경우는, 주식시장이기에, 연중무휴인 코인시장과 다름\n",
    "# 이경우 SP500의 가격이 아닌, 수익률의 변화가 없었음을 표현하고자함\n",
    "\n",
    "beta=pd.DataFrame()\n",
    "alpha=pd.DataFrame()\n",
    "pvalue=pd.DataFrame()\n",
    "corr=pd.DataFrame()\n",
    "window_size = 251 # 250일치 이전임, 이후 변경될 수도?\n",
    "\n",
    "from statsmodels.regression.rolling import RollingOLS\n",
    "from scipy.stats import t\n",
    "for i in range(0, num_coin):\n",
    "    df['target'] = df[df.columns[i]]\n",
    "    roll_reg2 = RollingOLS.from_formula('SP500 ~ target', window=251,min_nobs=251, data=df,missing='drop') #target 하고 SP500하고 250일치 reg만 봄\n",
    "    model3 = roll_reg2.fit()\n",
    "    para2 = model3.params\n",
    "    beta[df.columns[i]]=para2['target']\n",
    "    alpha[df.columns[i]]=para2['Intercept']\n",
    "    corr[df.columns[i]] = df[df.columns[i]].rolling(window=window_size).corr(df['SP500']) #dropna 없어야 기존 형식 유지됨\n",
    "    #rolling은 p-value 제공 안함, 직접 구해보면\n",
    "    tvalues = model3.tvalues['target']\n",
    "    df_resid = model3.df_resid\n",
    "    pvals = t.sf(abs(tvalues), df_resid) * 2  #양측으로\n",
    "    pvalue[df.columns[i]] = pvals\n",
    "\n",
    "\n",
    "alpha.to_csv('alpha.csv', index=True)\n",
    "beta.to_csv('beta.csv', index=True)\n",
    "pvalue.to_csv('pvalue.csv', index=True)\n",
    "corr.to_csv('corr.csv', index=True)\n",
    "df.to_csv('df.csv', index=True)"
   ]
  },
  {
   "cell_type": "markdown",
   "id": "fe887fee-e413-4b18-9570-ac1f808d6bdc",
   "metadata": {
    "tags": []
   },
   "source": [
    "### SP500과의 reg 통하여, alpha, beta, beta의 p-value, correlation 등을 추출하였고\n",
    "### 이 값들을 통하여, 주식시장과의 연관이 있어보이는 코인들을 추출해 보고자 한다."
   ]
  },
  {
   "cell_type": "markdown",
   "id": "0090d8ee-af3e-4519-868e-b08831e314f0",
   "metadata": {},
   "source": [
    "### EVENT : 절댓값 10% 이상의 주가변화\n",
    "### 상한가 근처 의미 52_WK_HI, 하한가 근처 의미 52_WK_LO 등을 계산하여 추출하고자함\n",
    "### 52_WK_HI = 사건 전날가격/250일 최고가 -> 1에 가까울 수록 사건일 전 가격이 상한가에 가까움\n",
    "### 52_WK_LO = 250일 최저가/사건 전날 가격 -> 1에 가까울 수록 사건일 전 가격이 하한가에 가까움\n"
   ]
  },
  {
   "cell_type": "code",
   "execution_count": 4,
   "id": "5ff2200a-8bc7-404c-bb8b-28779bd770ae",
   "metadata": {
    "tags": []
   },
   "outputs": [],
   "source": [
    "import pandas as pd\n",
    "import numpy as np\n",
    "df = pd.read_csv('df.csv', index_col=0)\n",
    "beta = pd.read_csv('beta.csv', index_col=0)\n",
    "alpha = pd.read_csv('alpha.csv', index_col=0)\n",
    "pvalue = pd.read_csv('pvalue.csv', index_col=0)\n",
    "corr = pd.read_csv('corr.csv', index_col=0)\n",
    "close_df = pd.read_csv('close_df_cc.csv', index_col=0)\n",
    "event=pd.DataFrame(columns=['date','name', 'df', 'beta', 'pvalue' ,'corr'])\n",
    "num_coin = len(close_df.columns)\n",
    "count = 0\n",
    "for n in range(0, num_coin):\n",
    "    for m in range(0, len(df)):\n",
    "        if abs(df.iloc[m, n]) >= 0.1 and not(pd.isna(corr.iloc[m,n])): #corr 가 없는, 즉 이전 250일치가 존재하지 않으면 제욓마\n",
    "            event.loc[count, 'date'] = df.index[m]\n",
    "            event.loc[count, 'name'] = df.columns[n]\n",
    "            event.loc[count, '52_WK_HI'] = close_df.iloc[m-1,n]/max(close_df.iloc[m-250:m, n])\n",
    "            event.loc[count, '52_WK_LO'] = min(close_df.iloc[m-250:m,n])/close_df.iloc[m-1,n]\n",
    "            event.loc[count, 'df'] = df.iloc[m,n]\n",
    "            event.loc[count, 'alpha'] = alpha.iloc[m,n]\n",
    "            event.loc[count, 'beta'] = beta.iloc[m,n]\n",
    "            event.loc[count, 'pvalue'] = pvalue.iloc[m,n]\n",
    "            event.loc[count, 'corr'] = abs(corr.iloc[m,n])\n",
    "            count += 1\n",
    "event.to_csv('event.csv', index = True)"
   ]
  },
  {
   "cell_type": "markdown",
   "id": "077d2bc6-93d3-4a91-b0f3-5374bc9720aa",
   "metadata": {},
   "source": [
    "### K_mean cluster 를 통하여, 6개 집단으로 나누어 보고자 한다\n",
    "### 6개의 집단으로 나눈 이유는\n",
    "### beta : S&P500에 얼마나 영향을 받는지에 대한 scale 추측 가능\n",
    "### corr : S&P500 과 움직이는 방향 정도를 파악 가능함, 절대치로 하여 전혀 상관이 없는지 여부를 보고자 함\n",
    "### p-value : S&P500 과의 영향이 유의한지를 파악 가능\n",
    "\n",
    "### 그렇기에 3*2 의 군집으로 나누어서 분포를 보고자 함"
   ]
  },
  {
   "cell_type": "code",
   "execution_count": 5,
   "id": "deafdee5-afef-4199-98c5-fda9d4edb5ea",
   "metadata": {
    "tags": []
   },
   "outputs": [
    {
     "name": "stderr",
     "output_type": "stream",
     "text": [
      "C:\\Users\\siro8\\AppData\\Local\\Programs\\Python\\Python311\\Lib\\site-packages\\sklearn\\cluster\\_kmeans.py:870: FutureWarning: The default value of `n_init` will change from 10 to 'auto' in 1.4. Set the value of `n_init` explicitly to suppress the warning\n",
      "  warnings.warn(\n"
     ]
    },
    {
     "data": {
      "text/plain": [
       "Text(0.5, 0, 'correlation')"
      ]
     },
     "execution_count": 5,
     "metadata": {},
     "output_type": "execute_result"
    },
    {
     "data": {
      "image/png": "[encoded data removed]",
      "text/plain": [
       "<Figure size 640x480 with 1 Axes>"
      ]
     },
     "metadata": {},
     "output_type": "display_data"
    }
   ],
   "source": [
    "import pandas as pd\n",
    "from sklearn.cluster import KMeans\n",
    "import matplotlib.pyplot as plt\n",
    "\n",
    "event = pd.read_csv('event.csv', index_col = 0)\n",
    "features = event[['beta', 'pvalue', 'corr']]\n",
    "kmeans = KMeans(n_clusters=6)\n",
    "kmeans.fit(features)\n",
    "event['kmean_cluster'] = kmeans.labels_\n",
    "\n",
    "fig = plt.figure()\n",
    "ax = fig.add_subplot(111, projection='3d')\n",
    "\n",
    "ax.scatter(event['beta'], event['pvalue'], event['corr'], c=event['kmean_cluster'], cmap='rainbow')\n",
    "ax.set_xlabel('beta')\n",
    "ax.set_ylabel('p-value')\n",
    "ax.set_zlabel('correlation')\n"
   ]
  },
  {
   "cell_type": "markdown",
   "id": "59793737-7b37-4df3-947e-0d3f5688f4f6",
   "metadata": {
    "tags": []
   },
   "source": [
    "### 분포 자체는 Z축인 corr 도 영향이 있으나 그래프 상으로는 corr가 매우 크지 않은 탓에 \n",
    "### 주로 p-value 가 낮은 집단과 높은 집단으로 구분되는 것 처럼 보임"
   ]
  },
  {
   "cell_type": "code",
   "execution_count": 6,
   "id": "22b09b89-c341-47e8-b7f7-8d010cfd768d",
   "metadata": {
    "tags": []
   },
   "outputs": [],
   "source": [
    "b = event.copy()\n",
    "    \n",
    "for i in range(0,6):\n",
    "    b.loc[b['kmean_cluster'] == i, 'class_kmean'] = int(b[b['kmean_cluster'] == i]['pvalue'].mean() < 0.1) #각 클러스터별로 보고 있으니, 그 pvalue 만 봐서 평균이 0.1 보다 작은가"
   ]
  },
  {
   "cell_type": "markdown",
   "id": "c58f48ad-5e37-489d-b37f-47dbcab6de2a",
   "metadata": {},
   "source": [
    "### p-value가 낮은 경우 코인이 동화 된 것으로 추정가능하다면\n",
    "### 코인시장이 주식시장과 비슷하게 움직이는 기간과, 아닌 기간이 존재하기에,\n",
    "### 각 사건별로, 이전 250일간 주식시장과 연관이 있는 경우 그 사건 당시, 이후 잠깐동안\n",
    "### 코인시장에 동화된 것으로 간주하고자 한다"
   ]
  },
  {
   "cell_type": "code",
   "execution_count": 9,
   "id": "cc1db0ec-6aa4-4885-bd63-85f10e58591c",
   "metadata": {
    "tags": []
   },
   "outputs": [
    {
     "name": "stdout",
     "output_type": "stream",
     "text": [
      "p_value 낮은, 즉 동화 추정 코인 수 :  10235.0\n",
      "전체 코인 수 :  15586\n",
      "동화 율 :  0.656679070961119\n"
     ]
    }
   ],
   "source": [
    "print('p_value 낮은, 즉 동화 추정 코인 수 : ',b['class_kmean'].sum())\n",
    "print('전체 코인 수 : ', len(b))\n",
    "print('동화 율 : ', b['class_kmean'].sum()/len(b))"
   ]
  },
  {
   "cell_type": "code",
   "execution_count": 18,
   "id": "6736afab-ac02-4925-9a03-4af10c6fa5e8",
   "metadata": {
    "tags": []
   },
   "outputs": [],
   "source": [
    "knn1 = b[b['class_kmean'] == 1].copy().reset_index(drop=True) #knn 상 동화 추정\n",
    "knn2 = b[b['class_kmean'] == 0].copy().reset_index(drop=True) #knn 상 동화 아닌걸로 추정\n",
    "\n",
    "knn1.to_csv('event_knn1.csv', index = True)\n",
    "knn2.to_csv('event_knn2.csv', index = True)"
   ]
  },
  {
   "cell_type": "markdown",
   "id": "def71123-fe66-4563-ae49-0fdaba520420",
   "metadata": {},
   "source": [
    "### 두 집단, p-value로 구분하여 동화 추정된 knn1 집단과 knn2집단에 대해서 event study를 진행해 보고자 함\n",
    "### 이때 시장베타는, 주식시장에 동화되었을 경우 S&P500이 맞다고 볼 수 있으나,\n",
    "### 기본적으로 event study는 대표성을 띄는 지수를 시장베타로 추정해야되기에\n",
    "### event 내에서 BTC (비트코인) 을 제외하고 BTC를 통하여 추정하는 방식으로도 진행을 해 보고자 한다.\n",
    "\n",
    "#\n",
    "#\n",
    "# -Event study 통한 행태 분석-"
   ]
  },
  {
   "cell_type": "markdown",
   "id": "febf02d8-f23b-4d58-aef9-3536f70e123c",
   "metadata": {},
   "source": [
    "# 1. S&P 500과의 추정"
   ]
  },
  {
   "cell_type": "code",
   "execution_count": 11,
   "id": "33d781f5-6ad8-4b0b-8e2b-726fbc2b1b50",
   "metadata": {
    "tags": []
   },
   "outputs": [],
   "source": [
    "close_df = pd.read_csv('close_df_cc.csv', index_col=0)\n",
    "df = pd.read_csv('df.csv', index_col=0)\n",
    "beta = pd.read_csv('beta.csv', index_col=0)\n",
    "alpha = pd.read_csv('alpha.csv', index_col=0)\n",
    "knn1=pd.to_csv('event_knn1.csv', index_col=0)\n",
    "knn2=pd.to_csv('event_knn2.csv', index_col=0)\n",
    "\n",
    "#knn1 기준\n",
    "A = pd.DataFrame()\n",
    "import statistics\n",
    "for k in range(0, len(knn1)):\n",
    "    date1 = knn1.loc[k,'date']\n",
    "    name1 = knn1.loc[k, 'name']\n",
    "\n",
    "    m = df.index.get_loc(date1)\n",
    "    n = df.columns.get_loc(name1)\n",
    "    if (len(df.iloc[m-5:m+11, n])==16):\n",
    "        A.loc[k, 'name'] = name1\n",
    "        A.loc[k, 'day'] = date1\n",
    "        A.loc[k, 'diff'] = df.iloc[m,n]\n",
    "        A.loc[k, 'std'] = statistics.stdev(df.iloc[m-250:m, n])\n",
    "        A.loc[k, 'sp500'] = df.iloc[m, len(df.columns)-2]\n",
    "        A.loc[k, '52_WK_HI'] = close_df.iloc[m-1,n]/max(close_df.iloc[m-250:m, n])\n",
    "        A.loc[k, '52_WK_LO'] = min(close_df.iloc[m-250:m,n])/close_df.iloc[m-1,n]\n",
    "        aalpha = alpha.iloc[m,n]\n",
    "        bbeta = beta.iloc[m, n]\n",
    "        C = 1+(df.iloc[m-5:m+11, n] - (aalpha + bbeta*df.iloc[m-5:m+11, len(df.columns)-2]))\n",
    "        A.loc[k, \"CAR(-5,-1)\"]=(C[0])*(C[1])*(C[2])*(C[3])*(C[4])-1\n",
    "        if(A.loc[k, \"CAR(-5,-1)\"]<0):\n",
    "                A.loc[k, \"CONTRADICTION\"]=1\n",
    "        else:\n",
    "                A.loc[k, \"CONTRADICTION\"]=0\n",
    "\n",
    "        A.loc[k, \"Day1\"] = C[6]-1\n",
    "        A.loc[k, \"Day2\"] = C[7]-1\n",
    "        ppp=1\n",
    "        for pp in range(6, 11):\n",
    "            ppp = ppp*(C[pp])\n",
    "        A.loc[k, \"Day5\"] = ppp-1\n",
    "        ppp=1\n",
    "        for pp in range(6, 16):\n",
    "            ppp = ppp*(C[pp])\n",
    "        A.loc[k, \"Day10\"] = ppp-1\n",
    "    \n",
    "    \n",
    "#knn2 기준\n",
    "B = pd.DataFrame()\n",
    "import statistics\n",
    "for k in range(0, len(knn2)):\n",
    "    date1 = knn2.loc[k,'date']\n",
    "    name1 = knn2.loc[k, 'name']\n",
    "\n",
    "    m = df.index.get_loc(date1)\n",
    "    n = df.columns.get_loc(name1)\n",
    "    if (len(df.iloc[m-5:m+11, n])==16):\n",
    "        B.loc[k, 'name'] = name1\n",
    "        B.loc[k, 'day'] = date1\n",
    "        B.loc[k, 'diff'] = df.iloc[m,n]\n",
    "        B.loc[k, 'std'] = statistics.stdev(df.iloc[m-250:m, n])\n",
    "        B.loc[k, 'sp500'] = df.iloc[m, len(df.columns)-2]\n",
    "        B.loc[k, '52_WK_HI'] = close_df.iloc[m-1,n]/max(close_df.iloc[m-250:m, n])\n",
    "        B.loc[k, '52_WK_LO'] = min(close_df.iloc[m-250:m,n])/close_df.iloc[m-1,n]\n",
    "        aalpha = alpha.iloc[m,n]\n",
    "        bbeta = beta.iloc[m, n]\n",
    "        C = 1+(df.iloc[m-5:m+11, n] - (aalpha + bbeta*df.iloc[m-5:m+11, len(df.columns)-2]))\n",
    "        B.loc[k, \"CAR(-5,-1)\"]=(C[0])*(C[1])*(C[2])*(C[3])*(C[4])-1\n",
    "        if(B.loc[k, \"CAR(-5,-1)\"]<0):\n",
    "                B.loc[k, \"CONTRADICTION\"]=1\n",
    "        else:\n",
    "                B.loc[k, \"CONTRADICTION\"]=0\n",
    "\n",
    "        B.loc[k, \"Day1\"] = C[6]-1\n",
    "        B.loc[k, \"Day2\"] = C[7]-1\n",
    "        ppp=1\n",
    "        for pp in range(6, 11):\n",
    "            ppp = ppp*(C[pp])\n",
    "        B.loc[k, \"Day5\"] = ppp-1\n",
    "        ppp=1\n",
    "        for pp in range(6, 16):\n",
    "            ppp = ppp*(C[pp])\n",
    "        B.loc[k, \"Day10\"] = ppp-1\n",
    "    \n",
    "\n",
    "A = A.dropna().reset_index(drop=True)\n",
    "A.to_csv('Proxy_knn1.csv', index = True) #knn으로 분류한, p-value 낮아서 동화 된 것으로 추정 \n",
    "B = B.dropna().reset_index(drop=True)\n",
    "B.to_csv('Proxy_knn2.csv', index = True) #knn으로 분류한, p-value 높아서 동화 안된 것으로 추정 \n"
   ]
  },
  {
   "cell_type": "code",
   "execution_count": 12,
   "id": "56ad4867-00ef-48ef-ab48-b4df78831c14",
   "metadata": {
    "tags": []
   },
   "outputs": [],
   "source": [
    "def star(a):\n",
    "    if a < 0.01:\n",
    "        z = '***'\n",
    "    elif a >=0.01 and a < 0.05:\n",
    "        z = '**'\n",
    "    elif a >=0.05 and a < 0.1:\n",
    "        z = '*'\n",
    "    else:\n",
    "        z = ' '\n",
    "    return z"
   ]
  },
  {
   "cell_type": "markdown",
   "id": "9317ba90-0be5-4936-b7f5-aec0a0041b47",
   "metadata": {},
   "source": [
    "### Proxy_knn1 : kmean 기준, 동화된 것으로 추정됨"
   ]
  },
  {
   "cell_type": "code",
   "execution_count": 90,
   "id": "987f470a-5c47-4c0d-9ffb-ea7273ecac6a",
   "metadata": {
    "tags": []
   },
   "outputs": [
    {
     "name": "stdout",
     "output_type": "stream",
     "text": [
      "          SR>10%(5058) SR>10%(HI>0.7)(1701) SR>10%(LO>0.7)(1229)  \\\n",
      "Day1    ***-0.85(0.0%)        -0.19(50.72%)       ***-1.76(0.0%)   \n",
      "Day2      0.04(76.06%)         *0.48(5.85%)         -0.3(17.47%)   \n",
      "Day5   ***-0.84(0.44%)        ***2.0(0.06%)       ***-3.51(0.0%)   \n",
      "Day10     0.08(83.37%)        ***4.52(0.0%)       ***-4.48(0.0%)   \n",
      "\n",
      "       SR<-10%(5155) SR<-10%(HI>0.7)(1326) SR<-10%(LO>0.7)(1554)  \n",
      "Day1   ***1.25(0.0%)         ***2.08(0.0%)          0.57(13.77%)  \n",
      "Day2   **-0.42(2.9%)         -0.19(51.78%)        ***-1.63(0.0%)  \n",
      "Day5    0.28(64.52%)         **1.07(4.17%)         -0.76(14.85%)  \n",
      "Day10   0.06(87.72%)          0.01(98.65%)       ***-1.28(0.74%)  \n"
     ]
    }
   ],
   "source": [
    "import scipy.stats as stats\n",
    "q=['1', '2', '5', '10']\n",
    "A = pd.read_csv('Proxy_knn1.csv', index_col=0)\n",
    "UP_A = A[A['diff']>0].reset_index(drop=True)\n",
    "UP_A1 = UP_A[UP_A['52_WK_HI']>=0.7].reset_index(drop=True)\n",
    "UP_A2 = UP_A[UP_A['52_WK_LO']>=0.7].reset_index(drop=True)\n",
    "DOWN_A = A[A['diff']<0].reset_index(drop=True)\n",
    "DOWN_A1 = DOWN_A[DOWN_A['52_WK_HI']>=0.7].reset_index(drop=True)\n",
    "DOWN_A2 = DOWN_A[DOWN_A['52_WK_LO']>=0.7].reset_index(drop=True)\n",
    "\n",
    "result_A_all = pd.DataFrame()\n",
    "result_A_all['SR>10%('+str(len(UP_A))+')']=0\n",
    "result_A_all['SR>10%(HI>0.7)('+str(len(UP_A1))+')']=0\n",
    "result_A_all['SR>10%(LO>0.7)('+str(len(UP_A2))+')']=0\n",
    "result_A_all['SR<-10%('+str(len(DOWN_A))+')']=0\n",
    "result_A_all['SR<-10%(HI>0.7)('+str(len(DOWN_A1))+')']=0\n",
    "result_A_all['SR<-10%(LO>0.7)('+str(len(DOWN_A2))+')']=0\n",
    "for i in range(0, 4):\n",
    "    result_A_all.loc[\"Day\"+q[i]]=[star(stats.ttest_1samp(a=UP_A['Day'+q[i]], popmean=0).pvalue)+str(round(100*UP_A['Day'+q[i]].mean(),2))+'('+str(round(100*stats.ttest_1samp(a=UP_A['Day'+q[i]], popmean=0).pvalue,2))+'%)',\n",
    "                        star(stats.ttest_1samp(a=UP_A1['Day'+q[i]], popmean=0).pvalue)+str(round(100*UP_A1['Day'+q[i]].mean(),2))+'('+str(round(100*stats.ttest_1samp(a=UP_A1['Day'+q[i]], popmean=0).pvalue,2))+'%)',\n",
    "                        star(stats.ttest_1samp(a=UP_A2['Day'+q[i]], popmean=0).pvalue)+str(round(100*UP_A2['Day'+q[i]].mean(),2))+'('+str(round(100*stats.ttest_1samp(a=UP_A2['Day'+q[i]], popmean=0).pvalue,2))+'%)',\n",
    "                        star(stats.ttest_1samp(a=DOWN_A['Day'+q[i]], popmean=0).pvalue)+str(round(100*DOWN_A['Day'+q[i]].mean(),2))+'('+str(round(100*stats.ttest_1samp(a=DOWN_A['Day'+q[i]], popmean=0).pvalue,2))+'%)',\n",
    "                        star(stats.ttest_1samp(a=DOWN_A1['Day'+q[i]], popmean=0).pvalue)+str(round(100*DOWN_A1['Day'+q[i]].mean(),2))+'('+str(round(100*stats.ttest_1samp(a=DOWN_A1['Day'+q[i]], popmean=0).pvalue,2))+'%)',\n",
    "                        star(stats.ttest_1samp(a=DOWN_A2['Day'+q[i]], popmean=0).pvalue)+str(round(100*DOWN_A2['Day'+q[i]].mean(),2))+'('+str(round(100*stats.ttest_1samp(a=DOWN_A2['Day'+q[i]], popmean=0).pvalue,2))+'%)']\n",
    "    \n",
    "result_A_all.to_csv('knn1_result.csv', index=True)\n",
    "print(result_A_all)"
   ]
  },
  {
   "cell_type": "markdown",
   "id": "173d4244-0e46-4800-9b0f-dd1d8e430b85",
   "metadata": {
    "tags": []
   },
   "source": [
    "### Proxy_knn2 : kmean 기준, 동화안된 것으로 추정됨"
   ]
  },
  {
   "cell_type": "code",
   "execution_count": 89,
   "id": "ae738c48-8c7c-47b6-a984-74f5b59933aa",
   "metadata": {
    "tags": []
   },
   "outputs": [
    {
     "name": "stdout",
     "output_type": "stream",
     "text": [
      "          SR>10%(2773) SR>10%(HI>0.7)(948) SR>10%(LO>0.7)(565)  \\\n",
      "Day1   ***-1.14(0.09%)        *1.04(8.93%)     ***-3.37(0.01%)   \n",
      "Day2       0.11(70.9%)        0.53(19.96%)        0.19(70.97%)   \n",
      "Day5     -0.68(48.26%)       ***5.43(0.0%)      **-3.07(1.26%)   \n",
      "Day10    -1.46(33.52%)       ***8.98(0.0%)     ***-4.13(0.55%)   \n",
      "\n",
      "        SR<-10%(2526) SR<-10%(HI>0.7)(722) SR<-10%(LO>0.7)(600)  \n",
      "Day1    ***2.41(0.0%)        ***2.95(0.0%)         1.16(21.84%)  \n",
      "Day2     0.41(10.91%)         -0.01(97.4%)        -0.14(81.81%)  \n",
      "Day5    -2.37(64.79%)         0.99(24.04%)      ***-4.81(0.01%)  \n",
      "Day10    9.16(59.99%)        **2.59(3.75%)      ***-6.84(0.02%)  \n"
     ]
    }
   ],
   "source": [
    "q = ['1', '2', '5', '10']\n",
    "B = pd.read_csv('Proxy_knn2.csv', index_col=0)\n",
    "UP_B = B[B['diff'] > 0].reset_index(drop=True)\n",
    "UP_B1 = UP_B[UP_B['52_WK_HI'] >= 0.7].reset_index(drop=True)\n",
    "UP_B2 = UP_B[UP_B['52_WK_LO'] >= 0.7].reset_index(drop=True)\n",
    "DOWN_B = B[B['diff'] < 0].reset_index(drop=True)\n",
    "DOWN_B1 = DOWN_B[DOWN_B['52_WK_HI'] >= 0.7].reset_index(drop=True)\n",
    "DOWN_B2 = DOWN_B[DOWN_B['52_WK_LO'] >= 0.7].reset_index(drop=True)\n",
    "\n",
    "result_B_all = pd.DataFrame()\n",
    "result_B_all['SR>10%('+str(len(UP_B))+')'] = 0\n",
    "result_B_all['SR>10%(HI>0.7)('+str(len(UP_B1))+')'] = 0\n",
    "result_B_all['SR>10%(LO>0.7)('+str(len(UP_B2))+')'] = 0\n",
    "result_B_all['SR<-10%('+str(len(DOWN_B))+')'] = 0\n",
    "result_B_all['SR<-10%(HI>0.7)('+str(len(DOWN_B1))+')'] = 0\n",
    "result_B_all['SR<-10%(LO>0.7)('+str(len(DOWN_B2))+')'] = 0\n",
    "\n",
    "for i in range(0, 4):\n",
    "    result_B_all.loc[\"Day\"+q[i]] = [\n",
    "        star(stats.ttest_1samp(a=UP_B['Day'+q[i]], popmean=0).pvalue) + str(round(100*UP_B['Day'+q[i]].mean(),2))+'('+str(round(100*stats.ttest_1samp(a=UP_B['Day'+q[i]], popmean=0).pvalue,2))+'%)',\n",
    "        star(stats.ttest_1samp(a=UP_B1['Day'+q[i]], popmean=0).pvalue) + str(round(100*UP_B1['Day'+q[i]].mean(),2))+'('+str(round(100*stats.ttest_1samp(a=UP_B1['Day'+q[i]], popmean=0).pvalue,2))+'%)',\n",
    "        star(stats.ttest_1samp(a=UP_B2['Day'+q[i]], popmean=0).pvalue) + str(round(100*UP_B2['Day'+q[i]].mean(),2))+'('+str(round(100*stats.ttest_1samp(a=UP_B2['Day'+q[i]], popmean=0).pvalue,2))+'%)',\n",
    "        star(stats.ttest_1samp(a=DOWN_B['Day'+q[i]], popmean=0).pvalue) + str(round(100*DOWN_B['Day'+q[i]].mean(),2))+'('+str(round(100*stats.ttest_1samp(a=DOWN_B['Day'+q[i]], popmean=0).pvalue,2))+'%)',\n",
    "        star(stats.ttest_1samp(a=DOWN_B1['Day'+q[i]], popmean=0).pvalue) + str(round(100*DOWN_B1['Day'+q[i]].mean(),2))+'('+str(round(100*stats.ttest_1samp(a=DOWN_B1['Day'+q[i]], popmean=0).pvalue,2))+'%)',\n",
    "        star(stats.ttest_1samp(a=DOWN_B2['Day'+q[i]], popmean=0).pvalue) + str(round(100*DOWN_B2['Day'+q[i]].mean(),2))+'('+str(round(100*stats.ttest_1samp(a=DOWN_B2['Day'+q[i]], popmean=0).pvalue,2))+'%)'\n",
    "    ]\n",
    "\n",
    "result_B_all.to_csv('knn2_result.csv', index=True)\n",
    "print(result_B_all)\n"
   ]
  },
  {
   "cell_type": "markdown",
   "id": "a0da458e-1390-4ebe-9d1e-740c1856145d",
   "metadata": {},
   "source": [
    "## 상한가 근처 상승 -> 양의 이상수익률,\n",
    "## 기회를 놓치지 않기 위해서 매수 증가, 공포감 -> 과민반응\n",
    "\n",
    "## 하한가 근처 하락 -> 음의 이상수익률\n",
    "## 없어질지 모른다는(상장폐지), 공포감 -> 과민반응\n",
    "\n",
    "## 하한가 근처 상승 -> 음의 이상수익률\n",
    "## 하한가라는 공포감이 지배, day1 등에서 최대한 과하게 반응을 안하려함, 상승하였음에도 이후 예상보다 수익률이 낮음\n",
    "\n",
    "## 상한가 근처 하락 -> 유의성 적은 양의 이상수익률, 더 이상 떨어지지는 않을 것이다? 약간 애매함\n",
    "\n",
    "### 허나, knn1, knn2 집단 간, 즉 K-mean clustering 기준으로 두 집단을 나누었을때\n",
    "### 유의한 차이를 발견못함\n",
    "### 오히려 scale의 차이로 보아, 주식시장에 영향을 받지않는, 즉 K-mean clustering 기준으로\n",
    "### 주식시장 동화 안된 집단의 경우 scale이 더 큰 것으로 보임, 허나, 시장 베타는 S&P 500의 영향을 받을 수도 있음 -> 뚜렷한 지표?"
   ]
  },
  {
   "cell_type": "markdown",
   "id": "7bb60fdf-2fa7-4a82-8a26-56a7a202706e",
   "metadata": {},
   "source": [
    "# 2. BTC 와의 추정"
   ]
  },
  {
   "cell_type": "code",
   "execution_count": 107,
   "id": "b558aa0b-0f94-4637-b303-1f42646882f0",
   "metadata": {
    "tags": []
   },
   "outputs": [],
   "source": [
    "close_df = pd.read_csv('close_df_cc.csv', index_col=0)\n",
    "df = pd.read_csv('df.csv', index_col=0)\n",
    "beta = pd.read_csv('beta.csv', index_col=0)\n",
    "alpha = pd.read_csv('alpha.csv', index_col=0)\n",
    "knn1=pd.read_csv('event_knn1.csv', index_col=0)\n",
    "knn2=pd.read_csv('event_knn2.csv', index_col=0)\n",
    "\n",
    "#이벤트 내역에서 btc를 제거해줌\n",
    "knn1 = knn1[knn1['name']!='btc'].reset_index(drop=True)\n",
    "knn2 = knn2[knn2['name']!='btc'].reset_index(drop=True)\n",
    "\n",
    "#시장지수가 되는 btc\n",
    "btc = pd.DataFrame(df['btc'].copy())\n",
    "\n",
    "#knn1 기준\n",
    "A = pd.DataFrame()\n",
    "import statistics\n",
    "from statsmodels.regression.rolling import RollingOLS\n",
    "for k in range(0, len(knn1)):\n",
    "    date1 = knn1.loc[k,'date']\n",
    "    name1 = knn1.loc[k, 'name']\n",
    "\n",
    "    m = df.index.get_loc(date1)\n",
    "    n = df.columns.get_loc(name1)\n",
    "    if (len(df.iloc[m-5:m+11, n])==16):\n",
    "        A.loc[k, 'name'] = name1\n",
    "        A.loc[k, 'day'] = date1\n",
    "        A.loc[k, 'diff'] = df.iloc[m,n]\n",
    "        A.loc[k, 'std'] = statistics.stdev(df.iloc[m-250:m, n])\n",
    "        A.loc[k, 'sp500'] = df.iloc[m, len(df.columns)-2]\n",
    "        A.loc[k, '52_WK_HI'] = close_df.iloc[m-1,n]/max(close_df.iloc[m-250:m, n])\n",
    "        A.loc[k, '52_WK_LO'] = min(close_df.iloc[m-250:m,n])/close_df.iloc[m-1,n]\n",
    "        \n",
    "        #diff와 BTC 간에 capm으로 추정함\n",
    "        B1=pd.DataFrame()\n",
    "        B1.index.names = ['Date']\n",
    "        B1[\"diff\"]=df.iloc[m-250:m+11,n]\n",
    "        B1[\"BTC\"]=btc.iloc[m-250:m+11,0]                \n",
    "        roll_reg2 = RollingOLS.from_formula('diff ~ BTC', window=251,min_nobs=251, data=B1,missing='drop') #capm모델용 무위험이자율 하기 다요인용3\n",
    "        model3 = roll_reg2.fit()\n",
    "        para2 = model3.params\n",
    "        a=para2.iloc[250,0]\n",
    "        b=para2.iloc[250,1]\n",
    "        C=1+(B1.iloc[245:262,0]-(a+b*B1.iloc[245:262,1]))\n",
    "        \n",
    "        \n",
    "        A.loc[k, \"CAR(-5,-1)\"]=(C[0])*(C[1])*(C[2])*(C[3])*(C[4])-1\n",
    "        if(A.loc[k, \"CAR(-5,-1)\"]<0):\n",
    "                A.loc[k, \"CONTRADICTION\"]=1\n",
    "        else:\n",
    "                A.loc[k, \"CONTRADICTION\"]=0\n",
    "\n",
    "        A.loc[k, \"Day1\"] = C[6]-1\n",
    "        A.loc[k, \"Day2\"] = C[7]-1\n",
    "        ppp=1\n",
    "        for pp in range(6, 11):\n",
    "            ppp = ppp*(C[pp])\n",
    "        A.loc[k, \"Day5\"] = ppp-1\n",
    "        ppp=1\n",
    "        for pp in range(6, 16):\n",
    "            ppp = ppp*(C[pp])\n",
    "        A.loc[k, \"Day10\"] = ppp-1\n",
    "    \n",
    "    \n",
    "#knn2 기준\n",
    "B = pd.DataFrame()\n",
    "import statistics\n",
    "for k in range(0, len(knn2)):\n",
    "    date1 = knn2.loc[k,'date']\n",
    "    name1 = knn2.loc[k, 'name']\n",
    "\n",
    "    m = df.index.get_loc(date1)\n",
    "    n = df.columns.get_loc(name1)\n",
    "    if (len(df.iloc[m-5:m+11, n])==16):\n",
    "        B.loc[k, 'name'] = name1\n",
    "        B.loc[k, 'day'] = date1\n",
    "        B.loc[k, 'diff'] = df.iloc[m,n]\n",
    "        B.loc[k, 'std'] = statistics.stdev(df.iloc[m-250:m, n])\n",
    "        B.loc[k, 'sp500'] = df.iloc[m, len(df.columns)-2]\n",
    "        B.loc[k, '52_WK_HI'] = close_df.iloc[m-1,n]/max(close_df.iloc[m-250:m, n])\n",
    "        B.loc[k, '52_WK_LO'] = min(close_df.iloc[m-250:m,n])/close_df.iloc[m-1,n]\n",
    "        \n",
    "        #diff와 BTC 간에 capm으로 추정함\n",
    "        B1=pd.DataFrame()\n",
    "        B1.index.names = ['Date']\n",
    "        B1[\"diff\"]=df.iloc[m-250:m+11,n]\n",
    "        B1[\"BTC\"]=btc.iloc[m-250:m+11,0]                \n",
    "        roll_reg2 = RollingOLS.from_formula('diff ~ BTC', window=251,min_nobs=251, data=B1,missing='drop') #capm모델용 무위험이자율 하기 다요인용3\n",
    "        model3 = roll_reg2.fit()\n",
    "        para2 = model3.params\n",
    "        a=para2.iloc[250,0]\n",
    "        b=para2.iloc[250,1]\n",
    "        C=1+(B1.iloc[245:262,0]-(a+b*B1.iloc[245:262,1]))\n",
    "        \n",
    "        B.loc[k, \"CAR(-5,-1)\"]=(C[0])*(C[1])*(C[2])*(C[3])*(C[4])-1\n",
    "        if(B.loc[k, \"CAR(-5,-1)\"]<0):\n",
    "                B.loc[k, \"CONTRADICTION\"]=1\n",
    "        else:\n",
    "                B.loc[k, \"CONTRADICTION\"]=0\n",
    "\n",
    "        B.loc[k, \"Day1\"] = C[6]-1\n",
    "        B.loc[k, \"Day2\"] = C[7]-1\n",
    "        ppp=1\n",
    "        for pp in range(6, 11):\n",
    "            ppp = ppp*(C[pp])\n",
    "        B.loc[k, \"Day5\"] = ppp-1\n",
    "        ppp=1\n",
    "        for pp in range(6, 16):\n",
    "            ppp = ppp*(C[pp])\n",
    "        B.loc[k, \"Day10\"] = ppp-1\n",
    "    \n",
    "\n",
    "A = A.dropna().reset_index(drop=True)\n",
    "A.to_csv('Proxy_knn1_btc.csv', index = True) #knn으로 분류한, p-value 낮아서 동화 된 것으로 추정 \n",
    "B = B.dropna().reset_index(drop=True)\n",
    "B.to_csv('Proxy_knn2_btc.csv', index = True) #knn으로 분류한, p-value 높아서 동화 안된 것으로 추정 \n"
   ]
  },
  {
   "cell_type": "markdown",
   "id": "479087b0-d4bf-45ac-bdb7-94707ed761d5",
   "metadata": {},
   "source": [
    "### Proxy_knn1 : kmean 기준, 동화된 것으로 추정됨"
   ]
  },
  {
   "cell_type": "code",
   "execution_count": 108,
   "id": "cee7c90d-b9f6-4825-86b9-d67d23a33906",
   "metadata": {
    "tags": []
   },
   "outputs": [
    {
     "name": "stdout",
     "output_type": "stream",
     "text": [
      "          SR>10%(5043) SR>10%(HI>0.7)(1698) SR>10%(LO>0.7)(1222)  \\\n",
      "Day1     ***-0.6(0.0%)         -0.1(70.03%)        ***-1.1(0.0%)   \n",
      "Day2      -0.12(30.0%)         0.08(74.15%)         -0.21(26.0%)   \n",
      "Day5   ***-0.88(0.11%)         0.56(30.11%)       **-0.99(1.32%)   \n",
      "Day10  ***-1.19(0.08%)        **1.59(4.19%)        *-0.89(7.07%)   \n",
      "\n",
      "       SR<-10%(5136) SR<-10%(HI>0.7)(1321) SR<-10%(LO>0.7)(1545)  \n",
      "Day1   ***0.64(0.0%)         ***1.19(0.0%)          0.54(11.79%)  \n",
      "Day2   *-0.33(5.37%)         -0.03(88.64%)          -0.39(23.6%)  \n",
      "Day5    0.54(28.46%)          0.37(40.27%)         ***1.97(0.0%)  \n",
      "Day10    0.12(71.1%)        **-1.61(1.91%)         ***2.34(0.0%)  \n"
     ]
    }
   ],
   "source": [
    "import scipy.stats as stats\n",
    "q=['1', '2', '5', '10']\n",
    "A = pd.read_csv('Proxy_knn1_btc.csv', index_col=0)\n",
    "UP_A = A[A['diff']>0].reset_index(drop=True)\n",
    "UP_A1 = UP_A[UP_A['52_WK_HI']>=0.7].reset_index(drop=True)\n",
    "UP_A2 = UP_A[UP_A['52_WK_LO']>=0.7].reset_index(drop=True)\n",
    "DOWN_A = A[A['diff']<0].reset_index(drop=True)\n",
    "DOWN_A1 = DOWN_A[DOWN_A['52_WK_HI']>=0.7].reset_index(drop=True)\n",
    "DOWN_A2 = DOWN_A[DOWN_A['52_WK_LO']>=0.7].reset_index(drop=True)\n",
    "\n",
    "result_A_all = pd.DataFrame()\n",
    "result_A_all['SR>10%('+str(len(UP_A))+')']=0\n",
    "result_A_all['SR>10%(HI>0.7)('+str(len(UP_A1))+')']=0\n",
    "result_A_all['SR>10%(LO>0.7)('+str(len(UP_A2))+')']=0\n",
    "result_A_all['SR<-10%('+str(len(DOWN_A))+')']=0\n",
    "result_A_all['SR<-10%(HI>0.7)('+str(len(DOWN_A1))+')']=0\n",
    "result_A_all['SR<-10%(LO>0.7)('+str(len(DOWN_A2))+')']=0\n",
    "for i in range(0, 4):\n",
    "    result_A_all.loc[\"Day\"+q[i]]=[star(stats.ttest_1samp(a=UP_A['Day'+q[i]], popmean=0).pvalue)+str(round(100*UP_A['Day'+q[i]].mean(),2))+'('+str(round(100*stats.ttest_1samp(a=UP_A['Day'+q[i]], popmean=0).pvalue,2))+'%)',\n",
    "                        star(stats.ttest_1samp(a=UP_A1['Day'+q[i]], popmean=0).pvalue)+str(round(100*UP_A1['Day'+q[i]].mean(),2))+'('+str(round(100*stats.ttest_1samp(a=UP_A1['Day'+q[i]], popmean=0).pvalue,2))+'%)',\n",
    "                        star(stats.ttest_1samp(a=UP_A2['Day'+q[i]], popmean=0).pvalue)+str(round(100*UP_A2['Day'+q[i]].mean(),2))+'('+str(round(100*stats.ttest_1samp(a=UP_A2['Day'+q[i]], popmean=0).pvalue,2))+'%)',\n",
    "                        star(stats.ttest_1samp(a=DOWN_A['Day'+q[i]], popmean=0).pvalue)+str(round(100*DOWN_A['Day'+q[i]].mean(),2))+'('+str(round(100*stats.ttest_1samp(a=DOWN_A['Day'+q[i]], popmean=0).pvalue,2))+'%)',\n",
    "                        star(stats.ttest_1samp(a=DOWN_A1['Day'+q[i]], popmean=0).pvalue)+str(round(100*DOWN_A1['Day'+q[i]].mean(),2))+'('+str(round(100*stats.ttest_1samp(a=DOWN_A1['Day'+q[i]], popmean=0).pvalue,2))+'%)',\n",
    "                        star(stats.ttest_1samp(a=DOWN_A2['Day'+q[i]], popmean=0).pvalue)+str(round(100*DOWN_A2['Day'+q[i]].mean(),2))+'('+str(round(100*stats.ttest_1samp(a=DOWN_A2['Day'+q[i]], popmean=0).pvalue,2))+'%)']\n",
    "    \n",
    "result_A_all.to_csv('knn1_result_btc.csv', index=True)\n",
    "print(result_A_all)"
   ]
  },
  {
   "cell_type": "markdown",
   "id": "f1db22cb-b89b-4d41-b10a-e9fa368f5bde",
   "metadata": {},
   "source": [
    "### Proxy_knn2 : kmean 기준, 동화안된 것으로 추정됨"
   ]
  },
  {
   "cell_type": "code",
   "execution_count": 109,
   "id": "3551a086-cd43-4c27-b4e9-f8073b1fd852",
   "metadata": {
    "tags": []
   },
   "outputs": [
    {
     "name": "stdout",
     "output_type": "stream",
     "text": [
      "          SR>10%(2748) SR>10%(HI>0.7)(929) SR>10%(LO>0.7)(562)  \\\n",
      "Day1   ***-1.04(0.25%)         0.76(21.4%)      ***-2.8(0.13%)   \n",
      "Day2     -0.03(91.87%)         0.1(80.23%)        0.51(29.65%)   \n",
      "Day5     -1.35(13.39%)      ***2.92(0.66%)       -0.33(78.38%)   \n",
      "Day10    *-2.39(5.67%)       ***3.89(1.0%)        1.22(40.65%)   \n",
      "\n",
      "        SR<-10%(2500) SR<-10%(HI>0.7)(704) SR<-10%(LO>0.7)(597)  \n",
      "Day1    ***1.91(0.0%)        ***1.74(0.0%)          1.5(10.02%)  \n",
      "Day2   ***0.85(0.03%)         0.12(71.92%)       ***1.53(0.51%)  \n",
      "Day5    -0.74(88.51%)         -0.2(76.81%)         0.67(56.52%)  \n",
      "Day10    8.96(54.28%)         -0.73(48.2%)         2.02(29.79%)  \n"
     ]
    }
   ],
   "source": [
    "q = ['1', '2', '5', '10']\n",
    "B = pd.read_csv('Proxy_knn2_btc.csv', index_col=0)\n",
    "UP_B = B[B['diff'] > 0].reset_index(drop=True)\n",
    "UP_B1 = UP_B[UP_B['52_WK_HI'] >= 0.7].reset_index(drop=True)\n",
    "UP_B2 = UP_B[UP_B['52_WK_LO'] >= 0.7].reset_index(drop=True)\n",
    "DOWN_B = B[B['diff'] < 0].reset_index(drop=True)\n",
    "DOWN_B1 = DOWN_B[DOWN_B['52_WK_HI'] >= 0.7].reset_index(drop=True)\n",
    "DOWN_B2 = DOWN_B[DOWN_B['52_WK_LO'] >= 0.7].reset_index(drop=True)\n",
    "\n",
    "result_B_all = pd.DataFrame()\n",
    "result_B_all['SR>10%('+str(len(UP_B))+')'] = 0\n",
    "result_B_all['SR>10%(HI>0.7)('+str(len(UP_B1))+')'] = 0\n",
    "result_B_all['SR>10%(LO>0.7)('+str(len(UP_B2))+')'] = 0\n",
    "result_B_all['SR<-10%('+str(len(DOWN_B))+')'] = 0\n",
    "result_B_all['SR<-10%(HI>0.7)('+str(len(DOWN_B1))+')'] = 0\n",
    "result_B_all['SR<-10%(LO>0.7)('+str(len(DOWN_B2))+')'] = 0\n",
    "\n",
    "for i in range(0, 4):\n",
    "    result_B_all.loc[\"Day\"+q[i]] = [\n",
    "        star(stats.ttest_1samp(a=UP_B['Day'+q[i]], popmean=0).pvalue) + str(round(100*UP_B['Day'+q[i]].mean(),2))+'('+str(round(100*stats.ttest_1samp(a=UP_B['Day'+q[i]], popmean=0).pvalue,2))+'%)',\n",
    "        star(stats.ttest_1samp(a=UP_B1['Day'+q[i]], popmean=0).pvalue) + str(round(100*UP_B1['Day'+q[i]].mean(),2))+'('+str(round(100*stats.ttest_1samp(a=UP_B1['Day'+q[i]], popmean=0).pvalue,2))+'%)',\n",
    "        star(stats.ttest_1samp(a=UP_B2['Day'+q[i]], popmean=0).pvalue) + str(round(100*UP_B2['Day'+q[i]].mean(),2))+'('+str(round(100*stats.ttest_1samp(a=UP_B2['Day'+q[i]], popmean=0).pvalue,2))+'%)',\n",
    "        star(stats.ttest_1samp(a=DOWN_B['Day'+q[i]], popmean=0).pvalue) + str(round(100*DOWN_B['Day'+q[i]].mean(),2))+'('+str(round(100*stats.ttest_1samp(a=DOWN_B['Day'+q[i]], popmean=0).pvalue,2))+'%)',\n",
    "        star(stats.ttest_1samp(a=DOWN_B1['Day'+q[i]], popmean=0).pvalue) + str(round(100*DOWN_B1['Day'+q[i]].mean(),2))+'('+str(round(100*stats.ttest_1samp(a=DOWN_B1['Day'+q[i]], popmean=0).pvalue,2))+'%)',\n",
    "        star(stats.ttest_1samp(a=DOWN_B2['Day'+q[i]], popmean=0).pvalue) + str(round(100*DOWN_B2['Day'+q[i]].mean(),2))+'('+str(round(100*stats.ttest_1samp(a=DOWN_B2['Day'+q[i]], popmean=0).pvalue,2))+'%)'\n",
    "    ]\n",
    "\n",
    "result_B_all.to_csv('knn2_result_btc.csv', index=True)\n",
    "print(result_B_all)\n"
   ]
  },
  {
   "cell_type": "markdown",
   "id": "cf2b92c1-b2d8-4469-b8e6-89257537ced8",
   "metadata": {},
   "source": [
    "### 이전보다유의한 결과가 안 나오는 이유는, event 에 대해 \n",
    "### 1. S&P500이 코인 시장 투자자들에게 더 많은 관심을 주는 지수 일 수 있다.\n",
    "### 2. 비트코인 자체가 변동성이 매우 높기 때문에 대표 시장 지수가 될 수 없다.\n",
    "### 3. 비트코인 자체는 코인 시장의 일부이기에, 코인 시장내 특정 요인의 영향을 받을 수 있으며\n",
    "### S&P 500은 다양한 산업을 아우르는 광범위한 지수이기에 영향을 미치는 다양한 경제적 요인을 포착 가능할 수 있다.\n",
    "\n",
    "### 4. Knn1만의 결과만 보면 동화된 코인의 경우 하한가 근처 하락의 경우 유의한 양의 이상수익률\n",
    "### -> 이는 기존의 공포가 아닌 탐욕 지수가 높게 발동한 것으로 볼 수도 있음, 혹은 동화된 코인들만 어떠한 행태적 변화를 보인다.\n",
    "### 등의 요인이 영향을 끼칠 수 있다.\n",
    "\n",
    "### 그렇기에 Yukun Liu 의 논문과 유사하게 crypto 시장 내 지수 등을 사용해야 할 가능성을 시사한다."
   ]
  },
  {
   "cell_type": "markdown",
   "id": "c1f82666-00d2-4d3a-a50e-371b6fedf4e3",
   "metadata": {},
   "source": [
    "#\n",
    "#\n",
    "# -예측-"
   ]
  },
  {
   "cell_type": "markdown",
   "id": "f0dacdfb-a5ed-4bcf-ba52-e299f21b4a1a",
   "metadata": {},
   "source": [
    "### CAR이 유의성을 보이는 S&P500을 시장지수로 보았을 때 CAR 10 기준\n",
    "### 상한가 근처 상승이벤트 시 AR 양수 추출\n",
    "### 하한가 근처 이벤트 시 AR 음수 추출\n",
    "### 이들을 alpha, beta, 상한가 근처, 하한가 근처 값 기준으로 학습을 시켜보도록 하자\n",
    "### 만일 예측이 가능하다면, 이전 250일간의 S&P500과의 관계, 상한가,하한가 근처 여부 등으로\n",
    "### 이후 어떠한 식으로 변화할 지에 대해서 투자자들이 예측이 가능 할 것 이다."
   ]
  },
  {
   "cell_type": "code",
   "execution_count": 94,
   "id": "cb89878b-5be1-4354-9fa6-5a7feaca3687",
   "metadata": {
    "tags": []
   },
   "outputs": [],
   "source": [
    "A = pd.read_csv('Proxy_knn1.csv', index_col=0)\n",
    "B = pd.read_csv('Proxy_knn2.csv', index_col=0)\n",
    "\n",
    "filtered_A1 = A[(A['diff'] > 0) & (A['52_WK_HI'] >= 0.7) & (A['Day10'] > 0)]\n",
    "result1 = filtered_A1[['name', 'day']]\n",
    "filtered_A2 = A[(A['52_WK_LO'] >= 0.7) & (A['Day10'] < 0)]\n",
    "result2 = filtered_A2[['name', 'day']]\n",
    "\n",
    "filtered_B1 = B[(B['diff'] > 0) & (B['52_WK_HI'] >= 0.7) & (B['Day10'] > 0)]\n",
    "result3 = filtered_B1[['name', 'day']]\n",
    "filtered_B2 = B[(B['52_WK_LO'] >= 0.7) & (B['Day10'] < 0)]\n",
    "result4 = filtered_B2[['name', 'day']]\n",
    "\n",
    "result = pd.concat([result1, result2, result3, result4], ignore_index=True) # 필요한 name 과 day 생성"
   ]
  },
  {
   "cell_type": "code",
   "execution_count": 95,
   "id": "18f67ab9-9117-43c5-9299-39f34d1d2d59",
   "metadata": {
    "tags": []
   },
   "outputs": [],
   "source": [
    "event=pd.read_csv('event.csv', index_col = 0)\n",
    "event_map = result.set_index(['name', 'day']).index #name과 day들을 추출\n",
    "event['fear'] = event.apply(lambda x: 1 if (x['name'], x['date']) in event_map else 0, axis=1)\n",
    "#fear 들이 공포감에 반응하는것으로 추축되는 result로 추출한 name과 date 와 일치하는 친구들"
   ]
  },
  {
   "cell_type": "markdown",
   "id": "4cce2093-fb7c-4c6d-a3c4-afbe75742da2",
   "metadata": {},
   "source": [
    "### 머신러닝 위한 스필릿 및 스케일링"
   ]
  },
  {
   "cell_type": "code",
   "execution_count": 96,
   "id": "6396ea20-36d9-4903-837a-22139cdb5cc3",
   "metadata": {
    "tags": []
   },
   "outputs": [],
   "source": [
    "from sklearn.model_selection import train_test_split\n",
    "#split\n",
    "X = event[['df', 'alpha', 'beta', '52_WK_HI', '52_WK_LO']]\n",
    "y = event['fear']\n",
    "X_train, X_test, y_train, y_test = train_test_split(X, y, test_size=0.2, random_state=42, stratify=y)\n",
    "\n",
    "from sklearn.preprocessing import StandardScaler\n",
    "#스케일링\n",
    "scaler = StandardScaler()\n",
    "X_train_scaled = scaler.fit_transform(X_train)\n",
    "X_test_scaled = scaler.transform(X_test)"
   ]
  },
  {
   "cell_type": "markdown",
   "id": "dfdefff4-aad1-4516-93bd-80ecc9727797",
   "metadata": {},
   "source": [
    "### 1. Random Forest"
   ]
  },
  {
   "cell_type": "code",
   "execution_count": 97,
   "id": "c1555f28-5500-4b26-a491-c9a383e84d52",
   "metadata": {
    "tags": []
   },
   "outputs": [
    {
     "name": "stdout",
     "output_type": "stream",
     "text": [
      "랜덤포레스트 Accuracy: 0.8389993585631815\n",
      "              precision    recall  f1-score   support\n",
      "\n",
      "           0       0.90      0.89      0.90      2412\n",
      "           1       0.64      0.67      0.65       706\n",
      "\n",
      "    accuracy                           0.84      3118\n",
      "   macro avg       0.77      0.78      0.77      3118\n",
      "weighted avg       0.84      0.84      0.84      3118\n",
      "\n"
     ]
    }
   ],
   "source": [
    "from sklearn.ensemble import RandomForestClassifier\n",
    "#랜덤포레스트로 학습\n",
    "clf = RandomForestClassifier(random_state=0)\n",
    "clf.fit(X_train_scaled, y_train)\n",
    "\n",
    "#예측\n",
    "from sklearn.metrics import accuracy_score, classification_report\n",
    "y_pred_clf = clf.predict(X_test_scaled)\n",
    "print(f\"랜덤포레스트 Accuracy: {accuracy_score(y_test, y_pred_clf)}\")\n",
    "ac_clf = accuracy_score(y_test, y_pred_clf)\n",
    "print(classification_report(y_test, y_pred_clf))"
   ]
  },
  {
   "cell_type": "markdown",
   "id": "c039b1d3-69d8-477e-a3de-43c31a55c96a",
   "metadata": {},
   "source": [
    "### 2. Support Vector Machines"
   ]
  },
  {
   "cell_type": "code",
   "execution_count": 98,
   "id": "dd778759-8ba9-4623-95bc-ffec542265d8",
   "metadata": {
    "tags": []
   },
   "outputs": [
    {
     "name": "stdout",
     "output_type": "stream",
     "text": [
      "SVM Accuracy: 0.7735728030788968\n",
      "              precision    recall  f1-score   support\n",
      "\n",
      "           0       0.77      1.00      0.87      2412\n",
      "           1       0.00      0.00      0.00       706\n",
      "\n",
      "    accuracy                           0.77      3118\n",
      "   macro avg       0.39      0.50      0.44      3118\n",
      "weighted avg       0.60      0.77      0.67      3118\n",
      "\n"
     ]
    },
    {
     "name": "stderr",
     "output_type": "stream",
     "text": [
      "C:\\Users\\siro8\\AppData\\Local\\Programs\\Python\\Python311\\Lib\\site-packages\\sklearn\\metrics\\_classification.py:1344: UndefinedMetricWarning: Precision and F-score are ill-defined and being set to 0.0 in labels with no predicted samples. Use `zero_division` parameter to control this behavior.\n",
      "  _warn_prf(average, modifier, msg_start, len(result))\n",
      "C:\\Users\\siro8\\AppData\\Local\\Programs\\Python\\Python311\\Lib\\site-packages\\sklearn\\metrics\\_classification.py:1344: UndefinedMetricWarning: Precision and F-score are ill-defined and being set to 0.0 in labels with no predicted samples. Use `zero_division` parameter to control this behavior.\n",
      "  _warn_prf(average, modifier, msg_start, len(result))\n",
      "C:\\Users\\siro8\\AppData\\Local\\Programs\\Python\\Python311\\Lib\\site-packages\\sklearn\\metrics\\_classification.py:1344: UndefinedMetricWarning: Precision and F-score are ill-defined and being set to 0.0 in labels with no predicted samples. Use `zero_division` parameter to control this behavior.\n",
      "  _warn_prf(average, modifier, msg_start, len(result))\n"
     ]
    }
   ],
   "source": [
    "#svm 활용\n",
    "from sklearn.svm import SVC\n",
    "#모델 초기화\n",
    "svm_clf = SVC(kernel='linear', probability=True, random_state=0)\n",
    "svm_clf.fit(X_train_scaled, y_train)\n",
    "y_pred_svm = svm_clf.predict(X_test_scaled)\n",
    "\n",
    "#예측\n",
    "print(f\"SVM Accuracy: {accuracy_score(y_test, y_pred_svm)}\")\n",
    "ac_svm = accuracy_score(y_test, y_pred_svm)\n",
    "print(classification_report(y_test, y_pred_svm))"
   ]
  },
  {
   "cell_type": "markdown",
   "id": "d3f22001-959a-45fa-a219-ade6d46fbd61",
   "metadata": {},
   "source": [
    "### 3. Gradient Boosting"
   ]
  },
  {
   "cell_type": "code",
   "execution_count": 99,
   "id": "42d28ca6-0ae0-42a5-a921-a25e086fe9fa",
   "metadata": {
    "tags": []
   },
   "outputs": [
    {
     "name": "stdout",
     "output_type": "stream",
     "text": [
      "그래디언트 Accuracy: 0.8329057087876844\n",
      "              precision    recall  f1-score   support\n",
      "\n",
      "           0       0.90      0.88      0.89      2412\n",
      "           1       0.62      0.66      0.64       706\n",
      "\n",
      "    accuracy                           0.83      3118\n",
      "   macro avg       0.76      0.77      0.77      3118\n",
      "weighted avg       0.84      0.83      0.83      3118\n",
      "\n"
     ]
    }
   ],
   "source": [
    "#그래디언트 활용\n",
    "from sklearn.ensemble import GradientBoostingClassifier\n",
    "#모델 초기화\n",
    "gb_clf = GradientBoostingClassifier(n_estimators=100, learning_rate=0.1, max_depth=3, random_state=0)\n",
    "gb_clf.fit(X_train_scaled, y_train)\n",
    "y_pred_gb = gb_clf.predict(X_test_scaled)\n",
    "\n",
    "#예측\n",
    "print(f\"그래디언트 Accuracy: {accuracy_score(y_test, y_pred_gb)}\")\n",
    "ac_gb = accuracy_score(y_test, y_pred_gb)\n",
    "print(classification_report(y_test, y_pred_gb))"
   ]
  },
  {
   "cell_type": "markdown",
   "id": "ea112a0d-f629-4bac-b11f-0db6593b6a6e",
   "metadata": {},
   "source": [
    "### 4. DecisionTree"
   ]
  },
  {
   "cell_type": "code",
   "execution_count": 100,
   "id": "cc0cd584-0b72-469b-a32d-46293a0abb9d",
   "metadata": {
    "tags": []
   },
   "outputs": [
    {
     "name": "stdout",
     "output_type": "stream",
     "text": [
      "디시전트리 Accuracy: 0.8155869146889031\n",
      "              precision    recall  f1-score   support\n",
      "\n",
      "           0       0.88      0.88      0.88      2412\n",
      "           1       0.60      0.58      0.59       706\n",
      "\n",
      "    accuracy                           0.82      3118\n",
      "   macro avg       0.74      0.73      0.73      3118\n",
      "weighted avg       0.81      0.82      0.81      3118\n",
      "\n"
     ]
    }
   ],
   "source": [
    "#디시전트리 튜닝\n",
    "from sklearn.tree import DecisionTreeClassifier\n",
    "#모델 초기화\n",
    "dtc = DecisionTreeClassifier(random_state=0)\n",
    "dtc.fit(X_train, y_train)\n",
    "y_pred_dtc = dtc.predict(X_test)\n",
    "\n",
    "#예측\n",
    "print(f\"디시전트리 Accuracy: {accuracy_score(y_test, y_pred_dtc)}\")\n",
    "ac_dtc = accuracy_score(y_test, y_pred_dtc)\n",
    "print(classification_report(y_test, y_pred_dtc))"
   ]
  },
  {
   "cell_type": "code",
   "execution_count": 101,
   "id": "14688e01-eaf3-4cd0-90d4-87e5195f14f0",
   "metadata": {
    "tags": []
   },
   "outputs": [
    {
     "name": "stdout",
     "output_type": "stream",
     "text": [
      "best is : Random Forest\n"
     ]
    }
   ],
   "source": [
    "#ac_clf : r.f, ac_svm : svm, ac_gb : gb, ac_dtc : dtc\n",
    "#뭐가 가장 좋았는지 딕셔너리로 결합 후 출력해봄\n",
    "acc= {'Random Forest': ac_clf, 'SVM': ac_svm, 'Gradient Boosting': ac_gb, 'Decision Tree': ac_dtc}\n",
    "best_name = max(acc, key=acc.get)\n",
    "\n",
    "print(f\"best is : {best_name}\")"
   ]
  },
  {
   "cell_type": "markdown",
   "id": "6115cb2f-3b49-4e29-a0ff-c9cf28e07454",
   "metadata": {},
   "source": [
    "# 튜닝 - Grid Search"
   ]
  },
  {
   "cell_type": "markdown",
   "id": "101f1b91-a44e-4637-9ce5-299653095663",
   "metadata": {},
   "source": [
    "# 1. Random Forest"
   ]
  },
  {
   "cell_type": "code",
   "execution_count": 102,
   "id": "a7277ebb-33a9-44f5-8067-914bd88c4c75",
   "metadata": {
    "tags": []
   },
   "outputs": [
    {
     "name": "stdout",
     "output_type": "stream",
     "text": [
      "랜덤포레스트 Accuracy with best parameters: 0.8386786401539449\n",
      "              precision    recall  f1-score   support\n",
      "\n",
      "           0       0.90      0.89      0.89      2412\n",
      "           1       0.64      0.67      0.65       706\n",
      "\n",
      "    accuracy                           0.84      3118\n",
      "   macro avg       0.77      0.78      0.77      3118\n",
      "weighted avg       0.84      0.84      0.84      3118\n",
      "\n"
     ]
    }
   ],
   "source": [
    "from sklearn.model_selection import GridSearchCV\n",
    "#그리드 서치 이용할 예정\n",
    "\n",
    "#랜덤포레스트 활용\n",
    "# 랜덤 포레스트 분류기 초기화 - 독립, 교차 검증 등을 위해서 초기화 해줘야됨\n",
    "clf = RandomForestClassifier(random_state=0)\n",
    "\n",
    "n_estimators=[64,100,128,200]\n",
    "max_features= [2,3,4]\n",
    "bootstrap = [True]\n",
    "oob_score = [True,False]\n",
    "\n",
    "#하이퍼파라미터\n",
    "param_grid = {\n",
    "    'n_estimators':n_estimators,\n",
    "     'max_features':max_features,\n",
    "     'bootstrap':bootstrap\n",
    "}\n",
    "\n",
    "clf_grid_search = GridSearchCV(estimator=clf, param_grid=param_grid,)\n",
    "clf_grid_search.fit(X_train_scaled, y_train)\n",
    "\n",
    "\n",
    "#그리드 서치로 찾은걸로 예측\n",
    "best_clf = clf_grid_search.best_estimator_\n",
    "y_pred_clf1 = best_clf.predict(X_test_scaled)\n",
    "\n",
    "print(f\"랜덤포레스트 Accuracy with best parameters: {accuracy_score(y_test, y_pred_clf1)}\")\n",
    "ac_clf1 = accuracy_score(y_test, y_pred_clf1)\n",
    "print(classification_report(y_test, y_pred_clf1))"
   ]
  },
  {
   "cell_type": "markdown",
   "id": "fee4b306-fd7c-472f-8a7b-8ad830e52b74",
   "metadata": {},
   "source": [
    "# 2. Support Vector Machine"
   ]
  },
  {
   "cell_type": "code",
   "execution_count": 103,
   "id": "1602dd6f-616e-48ab-bb32-b21b8f4deede",
   "metadata": {
    "tags": []
   },
   "outputs": [
    {
     "name": "stdout",
     "output_type": "stream",
     "text": [
      "SVM Accuracy with best parameters: 0.8159076330981399\n",
      "              precision    recall  f1-score   support\n",
      "\n",
      "           0       0.88      0.88      0.88      2412\n",
      "           1       0.60      0.58      0.59       706\n",
      "\n",
      "    accuracy                           0.82      3118\n",
      "   macro avg       0.74      0.73      0.73      3118\n",
      "weighted avg       0.81      0.82      0.82      3118\n",
      "\n"
     ]
    }
   ],
   "source": [
    "#svm 활용\n",
    "from sklearn.model_selection import GridSearchCV\n",
    "#파라미터\n",
    "svm_param_grid = {'C':[0.01,0.1,1],'kernel':['linear','rbf']}\n",
    "svm_grid_search = GridSearchCV(svm_clf, svm_param_grid,)\n",
    "svm_grid_search.fit(X_train_scaled, y_train)\n",
    "\n",
    "best_svm = svm_grid_search.best_estimator_\n",
    "y_pred_svm1 = best_svm.predict(X_test_scaled)\n",
    "\n",
    "print(f\"SVM Accuracy with best parameters: {accuracy_score(y_test, y_pred_svm1)}\")\n",
    "ac_svm1 = accuracy_score(y_test, y_pred_svm1)\n",
    "print(classification_report(y_test, y_pred_svm1))"
   ]
  },
  {
   "cell_type": "markdown",
   "id": "2117aca3-b94d-456b-99b2-b63f504e256a",
   "metadata": {},
   "source": [
    "# 3. Gradient Boosting"
   ]
  },
  {
   "cell_type": "code",
   "execution_count": 104,
   "id": "fdcb2f39-06e1-42e1-b161-f4c078856eca",
   "metadata": {
    "tags": []
   },
   "outputs": [
    {
     "name": "stdout",
     "output_type": "stream",
     "text": [
      "GM Accuracy with best parameters: 0.8306606799230276\n",
      "              precision    recall  f1-score   support\n",
      "\n",
      "           0       0.90      0.88      0.89      2412\n",
      "           1       0.62      0.66      0.64       706\n",
      "\n",
      "    accuracy                           0.83      3118\n",
      "   macro avg       0.76      0.77      0.76      3118\n",
      "weighted avg       0.84      0.83      0.83      3118\n",
      "\n"
     ]
    }
   ],
   "source": [
    "#gb 활용\n",
    "\n",
    "#파라미터\n",
    "gb_param_grid = {\n",
    "    'n_estimators': [100, 200],\n",
    "    'max_depth': [3, 4, 5]\n",
    "}\n",
    "\n",
    "gb_grid_search = GridSearchCV(gb_clf, gb_param_grid,)\n",
    "gb_grid_search.fit(X_train_scaled, y_train)\n",
    "\n",
    "best_gb = gb_grid_search.best_estimator_\n",
    "y_pred_gb1 = best_gb.predict(X_test_scaled)\n",
    "\n",
    "print(f\"GM Accuracy with best parameters: {accuracy_score(y_test, y_pred_gb1)}\")\n",
    "ac_gb1 = accuracy_score(y_test, y_pred_gb1)\n",
    "print(classification_report(y_test, y_pred_gb1))"
   ]
  },
  {
   "cell_type": "markdown",
   "id": "9b19eb1b-fa15-4163-885c-957da7b533de",
   "metadata": {},
   "source": [
    "# 4. Decision Tree"
   ]
  },
  {
   "cell_type": "code",
   "execution_count": 105,
   "id": "b590fafb-e09b-48a1-a61c-49cd492d5ad8",
   "metadata": {
    "tags": []
   },
   "outputs": [
    {
     "name": "stdout",
     "output_type": "stream",
     "text": [
      "디시전트리 Accuracy with best parameters: 0.8290570878768442\n",
      "              precision    recall  f1-score   support\n",
      "\n",
      "           0       0.89      0.89      0.89      2412\n",
      "           1       0.63      0.60      0.62       706\n",
      "\n",
      "    accuracy                           0.83      3118\n",
      "   macro avg       0.76      0.75      0.75      3118\n",
      "weighted avg       0.83      0.83      0.83      3118\n",
      "\n"
     ]
    }
   ],
   "source": [
    "#DT 활용\n",
    "\n",
    "param_grid_dtc = {\n",
    "    'max_depth': [None, 2, 4, 6, 8, 10],\n",
    "    'min_samples_split': [2, 4, 6],\n",
    "    'min_samples_leaf': [1, 2, 3]\n",
    "}\n",
    "\n",
    "grid_search_dtc = GridSearchCV(dtc, param_grid_dtc,)\n",
    "grid_search_dtc.fit(X_train_scaled, y_train)\n",
    "\n",
    "best_dtc = grid_search_dtc.best_estimator_\n",
    "y_pred_dtc1 = best_dtc.predict(X_test_scaled)\n",
    "\n",
    "print(f\"디시전트리 Accuracy with best parameters: {accuracy_score(y_test, y_pred_dtc1)}\")\n",
    "ac_dtc1 = accuracy_score(y_test, y_pred_dtc1)\n",
    "print(classification_report(y_test, y_pred_dtc1))"
   ]
  },
  {
   "cell_type": "code",
   "execution_count": 106,
   "id": "cdf23533-5714-440e-bfe3-544e901d355f",
   "metadata": {
    "tags": []
   },
   "outputs": [
    {
     "name": "stdout",
     "output_type": "stream",
     "text": [
      "best is : Random Forest\n"
     ]
    }
   ],
   "source": [
    "#ac_clf1 : r.f, ac_svm1 : svm, ac_gb1 : gb, ac_dtc1 : dtc\n",
    "#뭐가 가장 좋았는지 딕셔너리로 결합 후 출력해봄\n",
    "acc1= {'Random Forest': ac_clf1, 'SVM': ac_svm1, 'Gradient Boosting': ac_gb1, 'Decision Tree': ac_dtc1}\n",
    "best_name1 = max(acc1, key=acc1.get)\n",
    "\n",
    "print(f\"best is : {best_name1}\")"
   ]
  },
  {
   "cell_type": "code",
   "execution_count": null,
   "id": "c8c3df97-f4b5-4121-aa24-0f480b168241",
   "metadata": {},
   "outputs": [],
   "source": []
  }
 ],
 "metadata": {
  "kernelspec": {
   "display_name": "Python 3 (ipykernel)",
   "language": "python",
   "name": "python3"
  },
  "language_info": {
   "codemirror_mode": {
    "name": "ipython",
    "version": 3
   },
   "file_extension": ".py",
   "mimetype": "text/x-python",
   "name": "python",
   "nbconvert_exporter": "python",
   "pygments_lexer": "ipython3",
   "version": "3.11.2"
  }
 },
 "nbformat": 4,
 "nbformat_minor": 5
}
